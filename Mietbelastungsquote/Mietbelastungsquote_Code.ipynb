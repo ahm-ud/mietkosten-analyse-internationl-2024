{
  "nbformat": 4,
  "nbformat_minor": 0,
  "metadata": {
    "colab": {
      "provenance": []
    },
    "kernelspec": {
      "name": "python3",
      "display_name": "Python 3"
    },
    "language_info": {
      "name": "python"
    }
  },
  "cells": [
    {
      "cell_type": "code",
      "execution_count": null,
      "metadata": {
        "id": "gLRdgXKbsrNk"
      },
      "outputs": [],
      "source": [
        "# === Berechnung der Mietbelastungsquote (%) pro Land ===\n",
        "\n",
        "# 1. Notwendige Bibliotheken installieren:\n",
        "!pip install pandas plotly openpyxl\n",
        "\n",
        "# 2. Bibliotheken importieren:\n",
        "import pandas as pd                    # Für Datenverarbeitung mit Excel\n",
        "import plotly.express as px            # Für interaktive Diagramme\n",
        "from google.colab import files         # Für Upload/Download in Colab\n",
        "\n",
        "# 3. Hinweis zur erwarteten Datei anzeigen:\n",
        "print(\"⬆️ Bitte laden Sie die Datei 'avg_incom_and_rent.xlsx' hoch.\\n\")\n",
        "\n",
        "# 4. Datei-Upload durch Nutzer:\n",
        "uploaded = files.upload()              # Erwartet eine Excel-Datei mit \"Land\", \"Einkommen\", \"Miete\"\n",
        "\n",
        "# 5. Datei automatisch einlesen:\n",
        "for filename in uploaded.keys():       # Annahme: Es wird nur eine Datei hochgeladen\n",
        "    df = pd.read_excel(filename)\n",
        "\n",
        "# 6. Mietbelastungsquote berechnen (Miete / Einkommen * 100):\n",
        "df[\"Mietbelastungsquote (%)\"] = round(\n",
        "    df[\"Miete für 1-Zimmer-Wohnung im Stadtzentrum (€)\"] /\n",
        "    df[\"Durchschnittliches Nettoeinkommen (€)\"] * 100, 1\n",
        ")\n",
        "\n",
        "# 7. Neue Excel-Datei mit berechneter Quote speichern:\n",
        "output_filename = \"Mietbelastungsquote.xlsx\"\n",
        "df.to_excel(output_filename, index=False)\n",
        "\n",
        "# 8. Datei zum Download anbieten (für spätere Visualisierung oder Anhang):\n",
        "files.download(output_filename)\n",
        "\n",
        "# === VISUALISIERUNG DER EXPORTIERTEN DATEN FÜR DIE Mietbelastungsquote ===\n",
        "\n",
        "# 9. Datei direkt wieder einlesen (keine manuelle Aktion vom Nutzer nötig):\n",
        "df = pd.read_excel(output_filename)    # Automatisches Einlesen der gerade gespeicherten Datei\n",
        "\n",
        "# 10. Balkendiagramm erstellen:\n",
        "fig = px.bar(\n",
        "    df,\n",
        "    x=\"Land\",\n",
        "    y=\"Mietbelastungsquote (%)\",\n",
        "    text=\"Mietbelastungsquote (%)\",\n",
        "    title=\"Mietbelastungsquote im internationalen Vergleich\",\n",
        "    labels={\"Mietbelastungsquote (%)\": \"Mietbelastungsquote (%)\"},\n",
        "    color=\"Land\"\n",
        ")\n",
        "\n",
        "fig.update_traces(texttemplate='%{text:.1f}%', textposition='outside')\n",
        "fig.update_layout(\n",
        "    uniformtext_minsize=8,\n",
        "    uniformtext_mode='hide',\n",
        "    yaxis=dict(title=\"Mietbelastungsquote (%)\", tickformat=\".1f\"),\n",
        "    xaxis=dict(title=\"Land\"),\n",
        "    showlegend=False\n",
        ")\n",
        "\n",
        "# 11. Diagramm anzeigen:\n",
        "fig.show()"
      ]
    }
  ]
}